{
 "cells": [
  {
   "cell_type": "code",
   "execution_count": 1,
   "metadata": {
    "collapsed": false
   },
   "outputs": [
    {
     "name": "stderr",
     "output_type": "stream",
     "text": [
      "/home/data/nbc/data-analysis/env/lib/python2.7/site-packages/h5py/__init__.py:34: FutureWarning: Conversion of the second argument of issubdtype from `float` to `np.floating` is deprecated. In future, it will be treated as `np.float64 == np.dtype(float).type`.\n",
      "  from ._conv import register_converters as _register_converters\n"
     ]
    }
   ],
   "source": [
    "from bids.layout import BIDSLayout\n",
    "from bids.reports import BIDSReport"
   ]
  },
  {
   "cell_type": "code",
   "execution_count": 2,
   "metadata": {
    "collapsed": false
   },
   "outputs": [],
   "source": [
    "layout = BIDSLayout('/home/data/nbc/Sutherland_HIVCB/dset/', )\n",
    "report = BIDSReport(layout)"
   ]
  },
  {
   "cell_type": "code",
   "execution_count": 3,
   "metadata": {
    "collapsed": false
   },
   "outputs": [
    {
     "name": "stdout",
     "output_type": "stream",
     "text": [
      "Number of patterns detected: 29\n",
      "Remember to double-check everything and to replace <deg> with a degree symbol.\n"
     ]
    }
   ],
   "source": [
    "reports = report.generate()"
   ]
  },
  {
   "cell_type": "code",
   "execution_count": 4,
   "metadata": {
    "collapsed": false
   },
   "outputs": [
    {
     "name": "stdout",
     "output_type": "stream",
     "text": [
      "For session None:\n",
      "\tMR data were acquired using a 3-Tesla GE DISCOVERY_MR750 MRI scanner.\n",
      "\tT1-weighted steady state and segmented k-space gradient recalled (GR) structural MRI data were collected (256 slices; repetition time, TR=9.18ms; echo time, TE=3.68ms; flip angle, FA=12<deg>; field of view, FOV=186x256mm; matrix size=186x256; voxel size=1x1x1mm). \n",
      "\tOne run of no sequence variant echo planar and spin echo (EP/SE) diffusion-weighted (dMRI) data were collected (71 slices; repetition time, TR=7300ms; echo time, TE=60.5ms; flip angle, FA=90<deg>; field of view, FOV=256x256mm; matrix size=256x256; voxel size=1x1x2mm; b-values of 0 and 1000 acquired; 31 diffusion directions). \n",
      "\tOne run of no sequence variant echo planar and spin echo (EP/SE) diffusion-weighted (dMRI) data were collected (71 slices; repetition time, TR=7300ms; echo time, TE=60.5ms; flip angle, FA=90<deg>; field of view, FOV=256x256mm; matrix size=256x256; voxel size=1x1x2mm; b-values of 0 acquired; 2 diffusion directions). \n",
      "\tSix runs of error awareness steady state echo planar and gradient recalled (EP/GR) fMRI data were collected (42 slices in interleaved ascending order; repetition time, TR=2000ms; echo time, TE=30ms; flip angle, FA=75<deg>; field of view, FOV=220x220mm; matrix size=64x64; voxel size=3.44x3.44x3.4mm). Each run was 5:38 minutes in length, during which 169 functional volumes were acquired. \n",
      "\tOne run of resting state steady state echo planar and gradient recalled (EP/GR) fMRI data were collected (42 slices in interleaved ascending order; repetition time, TR=2000ms; echo time, TE=30ms; flip angle, FA=75<deg>; field of view, FOV=220x220mm; matrix size=64x64; voxel size=3.44x3.44x3.4mm). Each run was 8:10 minutes in length, during which 245 functional volumes were acquired. \n",
      "\n",
      "Dicoms were converted to NIfTI-1 format using dcm2niix (v1.0.20170314). This section was (in part) generated automatically using pybids (0.6.5). \n"
     ]
    }
   ],
   "source": [
    "best_report = reports.most_common()[0][0]\n",
    "print(best_report)"
   ]
  },
  {
   "cell_type": "code",
   "execution_count": null,
   "metadata": {
    "collapsed": true
   },
   "outputs": [],
   "source": []
  }
 ],
 "metadata": {
  "kernelspec": {
   "display_name": "Python 2",
   "language": "python",
   "name": "python2"
  },
  "language_info": {
   "codemirror_mode": {
    "name": "ipython",
    "version": 2
   },
   "file_extension": ".py",
   "mimetype": "text/x-python",
   "name": "python",
   "nbconvert_exporter": "python",
   "pygments_lexer": "ipython2",
   "version": "2.7.11"
  }
 },
 "nbformat": 4,
 "nbformat_minor": 0
}
