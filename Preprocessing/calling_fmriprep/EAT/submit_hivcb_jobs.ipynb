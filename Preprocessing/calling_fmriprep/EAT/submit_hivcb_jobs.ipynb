{
 "cells": [
  {
   "cell_type": "code",
   "execution_count": 1,
   "metadata": {
    "collapsed": false
   },
   "outputs": [
    {
     "name": "stderr",
     "output_type": "stream",
     "text": [
      "/home/data/nbc/data-analysis/env/lib/python2.7/site-packages/h5py/__init__.py:34: FutureWarning: Conversion of the second argument of issubdtype from `float` to `np.floating` is deprecated. In future, it will be treated as `np.float64 == np.dtype(float).type`.\n",
      "  from ._conv import register_converters as _register_converters\n"
     ]
    }
   ],
   "source": [
    "from bids.layout import BIDSLayout\n",
    "from glob import glob\n",
    "import os.path as op\n",
    "import subprocess"
   ]
  },
  {
   "cell_type": "code",
   "execution_count": 2,
   "metadata": {
    "collapsed": false
   },
   "outputs": [
    {
     "name": "stdout",
     "output_type": "stream",
     "text": [
      "['205', '241', '402', '406', '407', '410']\n"
     ]
    }
   ],
   "source": [
    "layout = BIDSLayout('/scratch/tsalo006/Sutherland_HIVCB_dset/')\n",
    "subjects = layout.get_subjects()\n",
    "done = glob('/home/data/nbc/Sutherland_HIVCB/derivatives/fmriprep-1.1.1/sub-*')\n",
    "#done = glob('/scratch/tsalo006/Sutherland_HIVCB_derivatives/fmriprep/sub*')\n",
    "done = [op.basename(d).split('sub-')[1] for d in done if op.isdir(d)]\n",
    "not_done = sorted(list(set(subjects) - set(done)))\n",
    "print(not_done)\n",
    "\n",
    "# Drop 205 because of very bad T1w\n",
    "not_done = ['241', '402', '406', '407', '410']"
   ]
  },
  {
   "cell_type": "code",
   "execution_count": 3,
   "metadata": {
    "collapsed": false
   },
   "outputs": [],
   "source": [
    "with open('jobfiles/hivcb_fmriprep_template.sub', 'r') as fo:\n",
    "    data = fo.read()\n",
    "\n",
    "for sub in not_done:\n",
    "    sub_data = data.format(sub=sub)\n",
    "\n",
    "    file_ = 'jobfiles/hivcb_fmriprep_sub-{0}.sub'.format(sub)\n",
    "    with open(file_, 'w') as fo:\n",
    "        fo.write(sub_data)\n",
    "    \n",
    "    sub_str = 'bsub<{0}'.format(file_)\n",
    "    process = subprocess.Popen(sub_str, shell=True)"
   ]
  }
 ],
 "metadata": {
  "kernelspec": {
   "display_name": "Python 2",
   "language": "python",
   "name": "python2"
  },
  "language_info": {
   "codemirror_mode": {
    "name": "ipython",
    "version": 2
   },
   "file_extension": ".py",
   "mimetype": "text/x-python",
   "name": "python",
   "nbconvert_exporter": "python",
   "pygments_lexer": "ipython2",
   "version": "2.7.11"
  }
 },
 "nbformat": 4,
 "nbformat_minor": 0
}
